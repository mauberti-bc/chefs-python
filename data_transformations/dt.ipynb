{
 "cells": [
  {
   "cell_type": "code",
   "execution_count": 1,
   "metadata": {},
   "outputs": [],
   "source": [
    "import json\n",
    "from datetime import datetime\n",
    "#note this i sthe same as the dt-ann.py file"
   ]
  },
  {
   "cell_type": "code",
   "execution_count": 2,
   "metadata": {},
   "outputs": [],
   "source": [
    "#So this is where the output from the Chefs Python would be attricuted to this object \"anna's output\"\n",
    "\n",
    "annas_output = '''\n",
    "{\n",
    "  \"data\": [\n",
    "    {\"Species_Name\": \"Alces alces\", \"Name\": \"Big Moose\", \"Count\": \"1\", \"Observation_date\": \"2023-01-01\"},\n",
    "    {\"Species_Name\": \"Erinaceus europaeus\", \"Name\": \"Spiky Boy\", \"Count\": 14, \"Observation_date\": \"2023-02-01\"}\n",
    "  ]\n",
    "}\n",
    "'''"
   ]
  },
  {
   "cell_type": "code",
   "execution_count": 3,
   "metadata": {},
   "outputs": [],
   "source": [
    "#Create a dict and a map in prep for the transformation\n",
    "\n",
    "data_dict = json.loads(annas_output)\n",
    "\n",
    "column_mapping = {\n",
    "    \"Species_Name\": \"Species\",\n",
    "    \"Name\": \"Individual_Name\",\n",
    "    \"Count\": (\"Total_count\", int),  \n",
    "    \"Observation_date\": (\"Date\", lambda x: datetime.strptime(x, '%Y-%m-%d'))  # Convert to datetime\n",
    "}"
   ]
  },
  {
   "cell_type": "code",
   "execution_count": 4,
   "metadata": {},
   "outputs": [],
   "source": [
    "# Transform the data\n",
    "transformed_data = []\n",
    "for item in data_dict[\"data\"]:\n",
    "    transformed_item = {}\n",
    "    for old_key, new_key in column_mapping.items():\n",
    "        if isinstance(new_key, tuple):\n",
    "            new_key, transform_function = new_key\n",
    "            transformed_item[new_key] = transform_function(item[old_key])\n",
    "        else:\n",
    "            transformed_item[new_key] = item[old_key]\n",
    "    transformed_data.append(transformed_item)\n"
   ]
  },
  {
   "cell_type": "code",
   "execution_count": 5,
   "metadata": {},
   "outputs": [
    {
     "name": "stdout",
     "output_type": "stream",
     "text": [
      "{\n",
      "  \"data\": [\n",
      "    {\n",
      "      \"Species\": \"Alces alces\",\n",
      "      \"Individual_Name\": \"Big Moose\",\n",
      "      \"Total_count\": 1,\n",
      "      \"Date\": \"2023-01-01 00:00:00\"\n",
      "    },\n",
      "    {\n",
      "      \"Species\": \"Erinaceus europaeus\",\n",
      "      \"Individual_Name\": \"Spiky Boy\",\n",
      "      \"Total_count\": 14,\n",
      "      \"Date\": \"2023-02-01 00:00:00\"\n",
      "    }\n",
      "  ]\n",
      "}\n"
     ]
    }
   ],
   "source": [
    "\n",
    "sims_ready = json.dumps({\"data\": transformed_data}, indent=2, default=str)\n",
    "\n",
    "print(sims_ready)\n",
    "\n",
    "# this should give us a nice json in SIMs format, where we can then send a request to SIMs."
   ]
  }
 ],
 "metadata": {
  "kernelspec": {
   "display_name": "workspace",
   "language": "python",
   "name": "python3"
  },
  "language_info": {
   "codemirror_mode": {
    "name": "ipython",
    "version": 3
   },
   "file_extension": ".py",
   "mimetype": "text/x-python",
   "name": "python",
   "nbconvert_exporter": "python",
   "pygments_lexer": "ipython3",
   "version": "3.12.2"
  }
 },
 "nbformat": 4,
 "nbformat_minor": 2
}
